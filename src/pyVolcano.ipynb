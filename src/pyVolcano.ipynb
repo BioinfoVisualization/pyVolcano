{
 "cells": [
  {
   "cell_type": "markdown",
   "id": "c5d11667",
   "metadata": {},
   "source": [
    "# pyVolcano\n",
    "Volcano plot working over matplotlib, numpy and pandas"
   ]
  },
  {
   "cell_type": "code",
   "execution_count": 1,
   "id": "ac954d3a",
   "metadata": {},
   "outputs": [],
   "source": [
    "import numpy as np\n",
    "import pandas as pd\n",
    "from matplotlib import pyplot as plt"
   ]
  },
  {
   "cell_type": "code",
   "execution_count": 2,
   "id": "740d8ddf",
   "metadata": {},
   "outputs": [],
   "source": [
    "import pyVolcano as pv"
   ]
  },
  {
   "cell_type": "code",
   "execution_count": 5,
   "id": "1737bc1e",
   "metadata": {},
   "outputs": [],
   "source": [
    "in_file = '../data/DE_data.xlsx'\n",
    "gene_col = 'row'\n",
    "pval_col = 'padj'\n",
    "log_col = 'log2FoldChange'\n",
    "n_names2show = 10\n",
    "pval_thresh = 0.01\n",
    "log_thresh = 1\n",
    "title = 'No_cell_comp'\n",
    "up_color = 'green'\n",
    "down_color = 'red'"
   ]
  },
  {
   "cell_type": "code",
   "execution_count": 6,
   "id": "6ddf4315",
   "metadata": {},
   "outputs": [],
   "source": [
    "file_type = in_file.split('.')[-1]\n",
    "if file_type == 'tsv':\n",
    "    DF = pd.read_csv(in_file,sep='\\t',index_col=0).reset_index(drop=True)\n",
    "elif file_type == 'xlsx':\n",
    "    DF = pd.read_excel(in_file,index_col=0)\n",
    "elif file_type == 'csv':\n",
    "    DF = pd.read_csv(in_file,sep=',',index_col=0).reset_index(drop=True)\n",
    "else:\n",
    "    raise NameError(\"Invalid input format. Has to be either .tsv, .csv or .xlsx.\")"
   ]
  },
  {
   "cell_type": "code",
   "execution_count": 7,
   "id": "610806b4",
   "metadata": {},
   "outputs": [
    {
     "data": {
      "text/html": [
       "<div>\n",
       "<style scoped>\n",
       "    .dataframe tbody tr th:only-of-type {\n",
       "        vertical-align: middle;\n",
       "    }\n",
       "\n",
       "    .dataframe tbody tr th {\n",
       "        vertical-align: top;\n",
       "    }\n",
       "\n",
       "    .dataframe thead th {\n",
       "        text-align: right;\n",
       "    }\n",
       "</style>\n",
       "<table border=\"1\" class=\"dataframe\">\n",
       "  <thead>\n",
       "    <tr style=\"text-align: right;\">\n",
       "      <th></th>\n",
       "      <th>row</th>\n",
       "      <th>log2FoldChange</th>\n",
       "      <th>padj</th>\n",
       "      <th>design</th>\n",
       "      <th>DE</th>\n",
       "    </tr>\n",
       "  </thead>\n",
       "  <tbody>\n",
       "    <tr>\n",
       "      <th>1</th>\n",
       "      <td>ENSG00000278267</td>\n",
       "      <td>-0.175689</td>\n",
       "      <td>0.701615</td>\n",
       "      <td>No_cell_comp</td>\n",
       "      <td>NO</td>\n",
       "    </tr>\n",
       "    <tr>\n",
       "      <th>2</th>\n",
       "      <td>ENSG00000238009</td>\n",
       "      <td>-0.331684</td>\n",
       "      <td>0.481832</td>\n",
       "      <td>No_cell_comp</td>\n",
       "      <td>NO</td>\n",
       "    </tr>\n",
       "    <tr>\n",
       "      <th>3</th>\n",
       "      <td>ENSG00000239906</td>\n",
       "      <td>-0.338826</td>\n",
       "      <td>0.587608</td>\n",
       "      <td>No_cell_comp</td>\n",
       "      <td>NO</td>\n",
       "    </tr>\n",
       "    <tr>\n",
       "      <th>4</th>\n",
       "      <td>ENSG00000241860</td>\n",
       "      <td>-0.380158</td>\n",
       "      <td>0.188621</td>\n",
       "      <td>No_cell_comp</td>\n",
       "      <td>NO</td>\n",
       "    </tr>\n",
       "    <tr>\n",
       "      <th>5</th>\n",
       "      <td>ENSG00000222623</td>\n",
       "      <td>0.121562</td>\n",
       "      <td>0.938411</td>\n",
       "      <td>No_cell_comp</td>\n",
       "      <td>NO</td>\n",
       "    </tr>\n",
       "    <tr>\n",
       "      <th>...</th>\n",
       "      <td>...</td>\n",
       "      <td>...</td>\n",
       "      <td>...</td>\n",
       "      <td>...</td>\n",
       "      <td>...</td>\n",
       "    </tr>\n",
       "    <tr>\n",
       "      <th>28355</th>\n",
       "      <td>ENSG00000198695</td>\n",
       "      <td>1.757460</td>\n",
       "      <td>0.000385</td>\n",
       "      <td>No_cell_comp</td>\n",
       "      <td>UP</td>\n",
       "    </tr>\n",
       "    <tr>\n",
       "      <th>28356</th>\n",
       "      <td>ENSG00000210194</td>\n",
       "      <td>3.145639</td>\n",
       "      <td>0.001141</td>\n",
       "      <td>No_cell_comp</td>\n",
       "      <td>UP</td>\n",
       "    </tr>\n",
       "    <tr>\n",
       "      <th>28357</th>\n",
       "      <td>ENSG00000198727</td>\n",
       "      <td>0.005482</td>\n",
       "      <td>0.994661</td>\n",
       "      <td>No_cell_comp</td>\n",
       "      <td>NO</td>\n",
       "    </tr>\n",
       "    <tr>\n",
       "      <th>28358</th>\n",
       "      <td>ENSG00000210195</td>\n",
       "      <td>-0.273726</td>\n",
       "      <td>0.714065</td>\n",
       "      <td>No_cell_comp</td>\n",
       "      <td>NO</td>\n",
       "    </tr>\n",
       "    <tr>\n",
       "      <th>28359</th>\n",
       "      <td>ENSG00000210196</td>\n",
       "      <td>-0.095691</td>\n",
       "      <td>0.891830</td>\n",
       "      <td>No_cell_comp</td>\n",
       "      <td>NO</td>\n",
       "    </tr>\n",
       "  </tbody>\n",
       "</table>\n",
       "<p>28359 rows × 5 columns</p>\n",
       "</div>"
      ],
      "text/plain": [
       "                   row  log2FoldChange      padj        design  DE\n",
       "1      ENSG00000278267       -0.175689  0.701615  No_cell_comp  NO\n",
       "2      ENSG00000238009       -0.331684  0.481832  No_cell_comp  NO\n",
       "3      ENSG00000239906       -0.338826  0.587608  No_cell_comp  NO\n",
       "4      ENSG00000241860       -0.380158  0.188621  No_cell_comp  NO\n",
       "5      ENSG00000222623        0.121562  0.938411  No_cell_comp  NO\n",
       "...                ...             ...       ...           ...  ..\n",
       "28355  ENSG00000198695        1.757460  0.000385  No_cell_comp  UP\n",
       "28356  ENSG00000210194        3.145639  0.001141  No_cell_comp  UP\n",
       "28357  ENSG00000198727        0.005482  0.994661  No_cell_comp  NO\n",
       "28358  ENSG00000210195       -0.273726  0.714065  No_cell_comp  NO\n",
       "28359  ENSG00000210196       -0.095691  0.891830  No_cell_comp  NO\n",
       "\n",
       "[28359 rows x 5 columns]"
      ]
     },
     "execution_count": 7,
     "metadata": {},
     "output_type": "execute_result"
    }
   ],
   "source": [
    "DF = DF.loc[DF['design']=='No_cell_comp']\n",
    "DF"
   ]
  },
  {
   "cell_type": "markdown",
   "id": "9e77e75f",
   "metadata": {},
   "source": [
    "## Plot"
   ]
  },
  {
   "cell_type": "code",
   "execution_count": 9,
   "id": "ba1b4dc1",
   "metadata": {},
   "outputs": [
    {
     "data": {
      "image/png": "[encoded data removed]",
      "text/plain": [
       "<Figure size 576x576 with 2 Axes>"
      ]
     },
     "metadata": {
      "needs_background": "light"
     },
     "output_type": "display_data"
    }
   ],
   "source": [
    "fig,ax = plt.subplots(1,2,figsize=[8,8])\n",
    "ax[0] = pv.volcano(DF,ax[0],pval_col=pval_col,gene_col=gene_col,\n",
    "                     log_col=log_col,up_color='blue')\n",
    "ax[1] = pv.volcano(DF,ax[1],pval_col=pval_col,gene_col=gene_col,log_col=log_col)\n",
    "plt.show()"
   ]
  },
  {
   "cell_type": "code",
   "execution_count": null,
   "id": "be7c703a",
   "metadata": {},
   "outputs": [],
   "source": []
  }
 ],
 "metadata": {
  "kernelspec": {
   "display_name": "volcano",
   "language": "python",
   "name": "volcano"
  },
  "language_info": {
   "codemirror_mode": {
    "name": "ipython",
    "version": 3
   },
   "file_extension": ".py",
   "mimetype": "text/x-python",
   "name": "python",
   "nbconvert_exporter": "python",
   "pygments_lexer": "ipython3",
   "version": "3.8.13"
  }
 },
 "nbformat": 4,
 "nbformat_minor": 5
}
