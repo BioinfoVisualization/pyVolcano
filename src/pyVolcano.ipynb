{
 "cells": [
  {
   "cell_type": "markdown",
   "id": "c5d11667",
   "metadata": {},
   "source": [
    "# pyVolcano\n",
    "Volcano plot working over matplotlib, numpy and pandas"
   ]
  },
  {
   "cell_type": "code",
   "execution_count": null,
   "id": "ac954d3a",
   "metadata": {},
   "outputs": [],
   "source": [
    "import numpy as np\n",
    "import pandas as pd\n",
    "from matplotlib import pyplot as plt"
   ]
  },
  {
   "cell_type": "code",
   "execution_count": null,
   "id": "1737bc1e",
   "metadata": {},
   "outputs": [],
   "source": [
    "pval_col = 'padj'\n",
    "gene_col = 'row'\n",
    "log_col = 'log2FoldChange'\n",
    "pval_thresh = 0.01\n",
    "log_thresh = 1\n",
    "up_color = 'green'\n",
    "down_color = 'red'\n",
    "title = 'No_cell_comp'\n",
    "n_names2show = 10"
   ]
  },
  {
   "cell_type": "code",
   "execution_count": null,
   "id": "d92f39c4",
   "metadata": {},
   "outputs": [],
   "source": [
    "in_file = '../data/DE_data.xlsx'"
   ]
  },
  {
   "cell_type": "code",
   "execution_count": null,
   "id": "6ddf4315",
   "metadata": {},
   "outputs": [],
   "source": [
    "file_type = in_file.split('.')[-1]\n",
    "if file_type == 'tsv':\n",
    "    DF = pd.read_csv(in_file,sep='\\t',index_col=0).reset_index(drop=True)\n",
    "elif file_type == 'xlsx':\n",
    "    DF = pd.read_excel(in_file,index_col=0)\n",
    "elif file_type == 'csv':\n",
    "    DF = pd.read_csv(in_file,sep=',',index_col=0).reset_index(drop=True)\n",
    "else:\n",
    "    raise NameError(\"Invalid input format. Has to be either .tsv, .csv or .xlsx.\")"
   ]
  },
  {
   "cell_type": "code",
   "execution_count": null,
   "id": "610806b4",
   "metadata": {},
   "outputs": [],
   "source": [
    "DF = DF.loc[DF['design']=='No_cell_comp']\n",
    "DF"
   ]
  },
  {
   "cell_type": "markdown",
   "id": "924ed65c",
   "metadata": {},
   "source": [
    "## Sort DF properly"
   ]
  },
  {
   "cell_type": "code",
   "execution_count": null,
   "id": "3bc78ad7",
   "metadata": {},
   "outputs": [],
   "source": [
    "DF.insert(2,'absLogF',np.absolute(DF.loc[:,'log2FoldChange']))\n",
    "DF"
   ]
  },
  {
   "cell_type": "code",
   "execution_count": null,
   "id": "c7ac9d8d",
   "metadata": {},
   "outputs": [],
   "source": [
    "DF = DF.sort_values(['padj','log2FoldChange'],ascending=[True,False]).reset_index(drop=True)\n",
    "DF"
   ]
  },
  {
   "cell_type": "markdown",
   "id": "d92f5a5a",
   "metadata": {},
   "source": [
    "## Insert color"
   ]
  },
  {
   "cell_type": "code",
   "execution_count": null,
   "id": "9e157e80",
   "metadata": {},
   "outputs": [],
   "source": [
    "DF.insert(4,'color','black')\n",
    "DF"
   ]
  },
  {
   "cell_type": "code",
   "execution_count": null,
   "id": "4493451e",
   "metadata": {},
   "outputs": [],
   "source": [
    "down = (DF.loc[:,pval_col]<pval_thresh)&(DF.loc[:,log_col]<-log_thresh)\n",
    "up = (DF.loc[:,pval_col]<pval_thresh)&(DF.loc[:,log_col]>log_thresh)"
   ]
  },
  {
   "cell_type": "code",
   "execution_count": null,
   "id": "300a5805",
   "metadata": {},
   "outputs": [],
   "source": [
    "DF.loc[down,'color'] = down_color\n",
    "DF.loc[up,'color'] = up_color"
   ]
  },
  {
   "cell_type": "code",
   "execution_count": null,
   "id": "16bf391e",
   "metadata": {},
   "outputs": [],
   "source": [
    "DF"
   ]
  },
  {
   "cell_type": "markdown",
   "id": "9e77e75f",
   "metadata": {},
   "source": [
    "## Plot"
   ]
  },
  {
   "cell_type": "code",
   "execution_count": null,
   "id": "eadaf956",
   "metadata": {},
   "outputs": [],
   "source": [
    "x = DF.loc[:,log_col].values\n",
    "y = -np.log10(DF.loc[:,pval_col].values)\n",
    "names = DF.loc[:,gene_col]\n",
    "\n",
    "fig,ax = plt.subplots(figsize=[8,8])\n",
    "ax.axhline(-np.log10(pval_thresh),color='gray',linestyle='--')\n",
    "ax.axvline(log_thresh,color='gray',linestyle='--')\n",
    "ax.axvline(-log_thresh,color='gray',linestyle='--')\n",
    "ax.scatter(x,y,c=DF.loc[:,'color'].values,s=3)\n",
    "for i in range(n_names2show):\n",
    "    ha = \"right\" if x[i] > 0 else \"left\"\n",
    "    ax.text(x[i], y[i] , s = names[i],ha=ha)\n",
    "ax.set_ylabel(r'$-log_{10}(pval)$')\n",
    "ax.set_xlabel(r'$log_2FoldChange$')\n",
    "ax.set_title(title)"
   ]
  },
  {
   "cell_type": "code",
   "execution_count": null,
   "id": "be7c703a",
   "metadata": {},
   "outputs": [],
   "source": []
  }
 ],
 "metadata": {
  "kernelspec": {
   "display_name": "volcano",
   "language": "python",
   "name": "volcano"
  },
  "language_info": {
   "codemirror_mode": {
    "name": "ipython",
    "version": 3
   },
   "file_extension": ".py",
   "mimetype": "text/x-python",
   "name": "python",
   "nbconvert_exporter": "python",
   "pygments_lexer": "ipython3",
   "version": "3.8.13"
  }
 },
 "nbformat": 4,
 "nbformat_minor": 5
}
