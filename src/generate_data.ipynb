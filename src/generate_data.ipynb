{
 "cells": [
  {
   "cell_type": "markdown",
   "id": "5a311fb8",
   "metadata": {},
   "source": [
    "# Generate data\n",
    "Generates test dataset for Volcano Plot. Uses a standard $t$ distribution to generate log2Fold change values and an exponential distribution to generate p-values. Gene names are ints taken from an interval with uniform distribution.<br>\n",
    "\n",
    "Kernel: `volcano`<br>\n",
    "**Author: Juan Sebastian Diaz Boada**<br>\n",
    "*juan.sebastian.diaz.boada@ki.se*<br>\n",
    "11/07/22"
   ]
  },
  {
   "cell_type": "code",
   "execution_count": 1,
   "id": "535fc50c",
   "metadata": {},
   "outputs": [],
   "source": [
    "import numpy as np\n",
    "import pandas as pd\n",
    "from matplotlib import pyplot as plt"
   ]
  },
  {
   "cell_type": "markdown",
   "id": "6f7659e3",
   "metadata": {},
   "source": [
    "### Number of samples"
   ]
  },
  {
   "cell_type": "code",
   "execution_count": 2,
   "id": "fbc8b99c",
   "metadata": {},
   "outputs": [],
   "source": [
    "N = 5000"
   ]
  },
  {
   "cell_type": "markdown",
   "id": "f8c09b14",
   "metadata": {},
   "source": [
    "### Gene column\n",
    "Random ints that act as gene identifiers."
   ]
  },
  {
   "cell_type": "code",
   "execution_count": 3,
   "id": "bd7ad09d",
   "metadata": {},
   "outputs": [
    {
     "data": {
      "text/plain": [
       "array([56003, 40914, 18847, ..., 36241, 64950, 29415])"
      ]
     },
     "execution_count": 3,
     "metadata": {},
     "output_type": "execute_result"
    }
   ],
   "source": [
    "genes = np.random.randint(1000,100000,N)\n",
    "genes"
   ]
  },
  {
   "cell_type": "markdown",
   "id": "9da9f6d4",
   "metadata": {},
   "source": [
    "### Log2Fold change\n",
    "Starndard $t$ distribution"
   ]
  },
  {
   "cell_type": "code",
   "execution_count": 4,
   "id": "1c6153d1",
   "metadata": {},
   "outputs": [
    {
     "data": {
      "text/plain": [
       "(array([1.000e+00, 0.000e+00, 0.000e+00, 0.000e+00, 1.000e+00, 2.000e+00,\n",
       "        1.000e+00, 1.000e+00, 2.000e+00, 0.000e+00, 1.000e+00, 3.000e+00,\n",
       "        5.000e+00, 4.000e+00, 4.000e+00, 2.300e+01, 4.800e+01, 1.130e+02,\n",
       "        3.560e+02, 1.043e+03, 1.763e+03, 1.075e+03, 3.470e+02, 1.040e+02,\n",
       "        5.300e+01, 1.900e+01, 1.200e+01, 4.000e+00, 5.000e+00, 3.000e+00,\n",
       "        4.000e+00, 0.000e+00, 1.000e+00, 0.000e+00, 0.000e+00, 0.000e+00,\n",
       "        0.000e+00, 0.000e+00, 1.000e+00, 0.000e+00, 0.000e+00, 0.000e+00,\n",
       "        0.000e+00, 0.000e+00, 0.000e+00, 0.000e+00, 0.000e+00, 0.000e+00,\n",
       "        0.000e+00, 1.000e+00]),\n",
       " array([-2.10935809, -2.00657871, -1.90379933, -1.80101995, -1.69824057,\n",
       "        -1.59546119, -1.49268181, -1.38990243, -1.28712306, -1.18434368,\n",
       "        -1.0815643 , -0.97878492, -0.87600554, -0.77322616, -0.67044678,\n",
       "        -0.5676674 , -0.46488802, -0.36210864, -0.25932926, -0.15654988,\n",
       "        -0.0537705 ,  0.04900888,  0.15178826,  0.25456764,  0.35734702,\n",
       "         0.4601264 ,  0.56290577,  0.66568515,  0.76846453,  0.87124391,\n",
       "         0.97402329,  1.07680267,  1.17958205,  1.28236143,  1.38514081,\n",
       "         1.48792019,  1.59069957,  1.69347895,  1.79625833,  1.89903771,\n",
       "         2.00181709,  2.10459647,  2.20737585,  2.31015523,  2.4129346 ,\n",
       "         2.51571398,  2.61849336,  2.72127274,  2.82405212,  2.9268315 ,\n",
       "         3.02961088]),\n",
       " <BarContainer object of 50 artists>)"
      ]
     },
     "execution_count": 4,
     "metadata": {},
     "output_type": "execute_result"
    },
    {
     "data": {
      "image/png": "[encoded data removed]",
      "text/plain": [
       "<Figure size 432x288 with 1 Axes>"
      ]
     },
     "metadata": {
      "needs_background": "light"
     },
     "output_type": "display_data"
    }
   ],
   "source": [
    "#log2F = 3*np.random.randn(N)\n",
    "log2F = 0.1*np.random.standard_t(df=3,size=N)\n",
    "log2F = log2F[np.argsort(np.abs(log2F))[::-1]]\n",
    "plt.hist(log2F,bins=50)"
   ]
  },
  {
   "cell_type": "markdown",
   "id": "077b0a0b",
   "metadata": {},
   "source": [
    "### P-values\n",
    "Truncated exponential distribution"
   ]
  },
  {
   "cell_type": "code",
   "execution_count": 5,
   "id": "3472f825",
   "metadata": {},
   "outputs": [
    {
     "data": {
      "text/plain": [
       "(array([ 30.,  51.,  39.,  30.,  37.,  52.,  37.,  52.,  52.,  59.,  75.,\n",
       "         82.,  72., 107., 110., 116., 115., 147., 169., 182., 227., 239.,\n",
       "        238., 270., 285., 339., 352., 439., 476., 521.]),\n",
       " array([7.24387357e-04, 3.40335744e-02, 6.73427615e-02, 1.00651949e-01,\n",
       "        1.33961136e-01, 1.67270323e-01, 2.00579510e-01, 2.33888697e-01,\n",
       "        2.67197884e-01, 3.00507071e-01, 3.33816258e-01, 3.67125445e-01,\n",
       "        4.00434632e-01, 4.33743820e-01, 4.67053007e-01, 5.00362194e-01,\n",
       "        5.33671381e-01, 5.66980568e-01, 6.00289755e-01, 6.33598942e-01,\n",
       "        6.66908129e-01, 7.00217316e-01, 7.33526503e-01, 7.66835690e-01,\n",
       "        8.00144877e-01, 8.33454065e-01, 8.66763252e-01, 9.00072439e-01,\n",
       "        9.33381626e-01, 9.66690813e-01, 1.00000000e+00]),\n",
       " <BarContainer object of 30 artists>)"
      ]
     },
     "execution_count": 5,
     "metadata": {},
     "output_type": "execute_result"
    },
    {
     "data": {
      "image/png": "[encoded data removed]",
      "text/plain": [
       "<Figure size 432x288 with 1 Axes>"
      ]
     },
     "metadata": {
      "needs_background": "light"
     },
     "output_type": "display_data"
    }
   ],
   "source": [
    "p_val = -np.random.exponential(scale=0.3,size=N)+1\n",
    "idx0 = np.where(p_val<0)[0]\n",
    "p_val[idx0] = -p_val[idx0]\n",
    "idx1 = np.where(p_val>1)[0]\n",
    "p_val[idx1] = 1\n",
    "p_val = np.sort(p_val)\n",
    "plt.hist(p_val,bins=30)"
   ]
  },
  {
   "cell_type": "markdown",
   "id": "2c478c54",
   "metadata": {},
   "source": [
    "### Dataframe generation"
   ]
  },
  {
   "cell_type": "code",
   "execution_count": 7,
   "id": "f825ecd5",
   "metadata": {},
   "outputs": [
    {
     "data": {
      "text/html": [
       "<div>\n",
       "<style scoped>\n",
       "    .dataframe tbody tr th:only-of-type {\n",
       "        vertical-align: middle;\n",
       "    }\n",
       "\n",
       "    .dataframe tbody tr th {\n",
       "        vertical-align: top;\n",
       "    }\n",
       "\n",
       "    .dataframe thead th {\n",
       "        text-align: right;\n",
       "    }\n",
       "</style>\n",
       "<table border=\"1\" class=\"dataframe\">\n",
       "  <thead>\n",
       "    <tr style=\"text-align: right;\">\n",
       "      <th></th>\n",
       "      <th>gene</th>\n",
       "      <th>log2Fold</th>\n",
       "      <th>p-val</th>\n",
       "    </tr>\n",
       "  </thead>\n",
       "  <tbody>\n",
       "    <tr>\n",
       "      <th>0</th>\n",
       "      <td>56003</td>\n",
       "      <td>3.029611</td>\n",
       "      <td>0.000724</td>\n",
       "    </tr>\n",
       "    <tr>\n",
       "      <th>1</th>\n",
       "      <td>40914</td>\n",
       "      <td>-2.109358</td>\n",
       "      <td>0.001019</td>\n",
       "    </tr>\n",
       "    <tr>\n",
       "      <th>2</th>\n",
       "      <td>18847</td>\n",
       "      <td>1.896094</td>\n",
       "      <td>0.002521</td>\n",
       "    </tr>\n",
       "    <tr>\n",
       "      <th>3</th>\n",
       "      <td>36738</td>\n",
       "      <td>-1.668072</td>\n",
       "      <td>0.002829</td>\n",
       "    </tr>\n",
       "    <tr>\n",
       "      <th>4</th>\n",
       "      <td>39033</td>\n",
       "      <td>-1.571249</td>\n",
       "      <td>0.003193</td>\n",
       "    </tr>\n",
       "    <tr>\n",
       "      <th>...</th>\n",
       "      <td>...</td>\n",
       "      <td>...</td>\n",
       "      <td>...</td>\n",
       "    </tr>\n",
       "    <tr>\n",
       "      <th>4995</th>\n",
       "      <td>10228</td>\n",
       "      <td>0.000091</td>\n",
       "      <td>1.000000</td>\n",
       "    </tr>\n",
       "    <tr>\n",
       "      <th>4996</th>\n",
       "      <td>11980</td>\n",
       "      <td>-0.000082</td>\n",
       "      <td>1.000000</td>\n",
       "    </tr>\n",
       "    <tr>\n",
       "      <th>4997</th>\n",
       "      <td>36241</td>\n",
       "      <td>-0.000052</td>\n",
       "      <td>1.000000</td>\n",
       "    </tr>\n",
       "    <tr>\n",
       "      <th>4998</th>\n",
       "      <td>64950</td>\n",
       "      <td>0.000027</td>\n",
       "      <td>1.000000</td>\n",
       "    </tr>\n",
       "    <tr>\n",
       "      <th>4999</th>\n",
       "      <td>29415</td>\n",
       "      <td>-0.000026</td>\n",
       "      <td>1.000000</td>\n",
       "    </tr>\n",
       "  </tbody>\n",
       "</table>\n",
       "<p>5000 rows × 3 columns</p>\n",
       "</div>"
      ],
      "text/plain": [
       "       gene  log2Fold     p-val\n",
       "0     56003  3.029611  0.000724\n",
       "1     40914 -2.109358  0.001019\n",
       "2     18847  1.896094  0.002521\n",
       "3     36738 -1.668072  0.002829\n",
       "4     39033 -1.571249  0.003193\n",
       "...     ...       ...       ...\n",
       "4995  10228  0.000091  1.000000\n",
       "4996  11980 -0.000082  1.000000\n",
       "4997  36241 -0.000052  1.000000\n",
       "4998  64950  0.000027  1.000000\n",
       "4999  29415 -0.000026  1.000000\n",
       "\n",
       "[5000 rows x 3 columns]"
      ]
     },
     "execution_count": 7,
     "metadata": {},
     "output_type": "execute_result"
    }
   ],
   "source": [
    "DF = pd.DataFrame({'gene':genes,'log2Fold':log2F,'p-val':p_val})\n",
    "DF"
   ]
  },
  {
   "cell_type": "markdown",
   "id": "48bb8cec",
   "metadata": {},
   "source": [
    "### Export dataframe"
   ]
  },
  {
   "cell_type": "code",
   "execution_count": 8,
   "id": "102760b8",
   "metadata": {},
   "outputs": [],
   "source": [
    "DF.to_csv('../data/DE_dataset.csv',sep=',')\n",
    "DF.to_csv('../data/DE_dataset.tsv',sep='\\t')\n",
    "DF.to_excel('../data/DE_dataset.xlsx')"
   ]
  }
 ],
 "metadata": {
  "kernelspec": {
   "display_name": "volcano",
   "language": "python",
   "name": "volcano"
  },
  "language_info": {
   "codemirror_mode": {
    "name": "ipython",
    "version": 3
   },
   "file_extension": ".py",
   "mimetype": "text/x-python",
   "name": "python",
   "nbconvert_exporter": "python",
   "pygments_lexer": "ipython3",
   "version": "3.8.13"
  }
 },
 "nbformat": 4,
 "nbformat_minor": 5
}
