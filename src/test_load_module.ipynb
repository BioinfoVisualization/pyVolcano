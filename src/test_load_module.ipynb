{
 "cells": [
  {
   "cell_type": "markdown",
   "id": "c5d11667",
   "metadata": {},
   "source": [
    "# TEST: pyVolcano with a real dataset\n",
    "Kernel: `volcano`<br>\n",
    "**Author: Juan Sebastian Diaz Boada**<br>\n",
    "*juan.sebastian.diaz.boada@ki.se*<br>\n",
    "08/07/22"
   ]
  },
  {
   "cell_type": "code",
   "execution_count": null,
   "id": "730e3b51",
   "metadata": {},
   "outputs": [],
   "source": [
    "import numpy as np\n",
    "import pandas as pd\n",
    "from matplotlib import pyplot as plt"
   ]
  },
  {
   "cell_type": "code",
   "execution_count": null,
   "id": "5249a9fe",
   "metadata": {},
   "outputs": [],
   "source": [
    "import pyVolcano as pv"
   ]
  },
  {
   "cell_type": "code",
   "execution_count": null,
   "id": "1737bc1e",
   "metadata": {},
   "outputs": [],
   "source": [
    "in_file = '../data/DE_data.xlsx'\n",
    "pval = 0.01\n",
    "log2F = 1\n",
    "gene_col = 'row'\n",
    "pval_col = 'padj'\n",
    "log_col = 'log2FoldChange'\n",
    "n_names2show = 10\n",
    "title = 'No_cell_comp'\n",
    "up_color = 'green'\n",
    "down_color = 'red'"
   ]
  },
  {
   "cell_type": "markdown",
   "id": "3e06423f",
   "metadata": {},
   "source": [
    "### Loads dataset"
   ]
  },
  {
   "cell_type": "code",
   "execution_count": null,
   "id": "6ddf4315",
   "metadata": {},
   "outputs": [],
   "source": [
    "file_type = in_file.split('.')[-1]\n",
    "if file_type == 'tsv':\n",
    "    DF = pd.read_csv(in_file,sep='\\t',index_col=0).reset_index(drop=True)\n",
    "elif file_type == 'xlsx':\n",
    "    DF = pd.read_excel(in_file,index_col=0)\n",
    "elif file_type == 'csv':\n",
    "    DF = pd.read_csv(in_file,sep=',',index_col=0).reset_index(drop=True)\n",
    "else:\n",
    "    raise NameError(\"Invalid input format. Has to be either .tsv, .csv or .xlsx.\")"
   ]
  },
  {
   "cell_type": "code",
   "execution_count": null,
   "id": "610806b4",
   "metadata": {},
   "outputs": [],
   "source": [
    "DF = DF.loc[DF['design']=='No_cell_comp']\n",
    "DF"
   ]
  },
  {
   "cell_type": "markdown",
   "id": "9e77e75f",
   "metadata": {},
   "source": [
    "## Plot"
   ]
  },
  {
   "cell_type": "code",
   "execution_count": null,
   "id": "9fda8be4",
   "metadata": {},
   "outputs": [],
   "source": [
    "fig,ax = plt.subplots(1,2,figsize=[12,6])\n",
    "ax[0] = pv.volcano(DF,ax[0],pval=pval,log2F=log2F,gene_col=gene_col,pval_col=pval_col,\n",
    "                 log_col=log_col,n_names2show = n_names2show,title = title,\n",
    "                 up_color='blue',down_color=down_color)\n",
    "ax[1] = pv.volcano(DF,ax[1],pval=pval,log2F=log2F,gene_col=gene_col,pval_col=pval_col,\n",
    "                 log_col=log_col,n_names2show = n_names2show,title = title,\n",
    "                 up_color=up_color,down_color=down_color)\n",
    "plt.show()"
   ]
  }
 ],
 "metadata": {
  "kernelspec": {
   "display_name": "volcano",
   "language": "python",
   "name": "volcano"
  },
  "language_info": {
   "codemirror_mode": {
    "name": "ipython",
    "version": 3
   },
   "file_extension": ".py",
   "mimetype": "text/x-python",
   "name": "python",
   "nbconvert_exporter": "python",
   "pygments_lexer": "ipython3",
   "version": "3.8.13"
  }
 },
 "nbformat": 4,
 "nbformat_minor": 5
}
